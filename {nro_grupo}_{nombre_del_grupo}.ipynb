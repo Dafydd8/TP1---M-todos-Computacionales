{
  "cells": [
    {
      "cell_type": "markdown",
      "metadata": {
        "id": "7kNuHXnlF-mc"
      },
      "source": [
        "**Métodos Computacionales - TP1 - Josefina Jahde y Dafydd Jenkins**"
      ]
    },
    {
      "cell_type": "markdown",
      "metadata": {
        "id": "ctqpAWdrFeQT"
      },
      "source": [
        "Funciones auxliares que se usarán a lo largo de los ejercicios"
      ]
    },
    {
      "cell_type": "code",
      "execution_count": 12,
      "metadata": {
        "id": "oPOuzDP-E-KT"
      },
      "outputs": [],
      "source": [
        "import numpy as np\n",
        "import matplotlib.pyplot as plt\n",
        "from random import randint\n",
        "\n",
        "######################\n",
        "#FUNCIONES AUXILIARES#\n",
        "######################\n",
        "\n",
        "# Función para graficar puntos individuales\n",
        "def graficar_punto(punto, color='black', label='', size = 30):\n",
        "    plt.scatter(punto[0], punto[1], color=color, label=label, s=size)\n",
        "\n",
        "\n",
        "def graficar_poligono(puntos, color='black', label=''):\n",
        "    for i in range(len(puntos)):\n",
        "        if i == len(puntos)-1:\n",
        "            plt.plot([puntos[i][0], puntos[0][0]], [puntos[i][1], puntos[0][1]], color=color, label=label)\n",
        "        else:\n",
        "            plt.plot([puntos[i][0], puntos[i+1][0]], [puntos[i][1], puntos[i+1][1]], color=color, label=label)"
      ]
    },
    {
      "cell_type": "markdown",
      "metadata": {
        "id": "XIS4MwxCGuvS"
      },
      "source": [
        "Ejercicio 1"
      ]
    },
    {
      "cell_type": "code",
      "execution_count": 13,
      "metadata": {
        "id": "XMjCROoOFllt"
      },
      "outputs": [],
      "source": [
        "# Funciones ejercicio 1\n",
        "def f0(t, puntos):\n",
        "    return (1-t)*puntos[0] + t*puntos[1]\n",
        "\n",
        "def f1(t, puntos):\n",
        "    return (1-t)*puntos[1] + t*puntos[2]\n",
        "\n",
        "def g(t, puntos):\n",
        "    p0 = puntos[0]\n",
        "    p1 = puntos[1]\n",
        "    p2 = puntos[2]\n",
        "    return t*t*(p0-2*p1+p2) + t*(2*p1-2*p0) + p0"
      ]
    },
    {
      "cell_type": "code",
      "execution_count": null,
      "metadata": {
        "id": "4JBF8LqPGyIL"
      },
      "outputs": [],
      "source": [
        "# Gráficos de ejercicio 1\n",
        "# Puntos de ejemplo en R2\n",
        "puntos = [np.array([1, 2]), np.array([5, 6]), np.array([2, 10])]\n",
        "\n",
        "# Generar las curvas f0, f1 y g\n",
        "t_values = np.linspace(0, 1, 100)\n",
        "f0s = np.array([f0(t, puntos) for t in t_values])\n",
        "f1s = np.array([f1(t, puntos) for t in t_values])\n",
        "gs = np.array([g(t, puntos) for t in t_values])\n",
        "\n",
        "# Graficar las curvas f0, f1 y g\n",
        "plt.plot(f0s[:, 0], f0s[:, 1], label='Curva f0')\n",
        "plt.plot(f1s[:, 0], f1s[:, 1], label='Curva f1')\n",
        "plt.plot(gs[:, 0], gs[:, 1], label='Curva g')\n",
        "\n",
        "# Graficar los puntos originales\n",
        "graficar_punto(puntos[0], color='b', label='p0')  # p0\n",
        "graficar_punto(puntos[1], color='g', label='p1')  # p1\n",
        "graficar_punto(puntos[2], color='m', label='p2')  # p2\n",
        "\n",
        "# Configurar el gráfico\n",
        "plt.title('Curvas f0, f1 y g')\n",
        "plt.xlabel('x')\n",
        "plt.ylabel('y')\n",
        "plt.axhline(0, color='black', linewidth=0.5)\n",
        "plt.axvline(0, color='black', linewidth=0.5)\n",
        "plt.grid()\n",
        "plt.legend()\n",
        "\n",
        "# Mostrar el gráfico\n",
        "plt.show()"
      ]
    },
    {
      "cell_type": "markdown",
      "metadata": {
        "id": "dqnKSJxvHFzV"
      },
      "source": [
        "Ejercicio 2:"
      ]
    },
    {
      "cell_type": "code",
      "execution_count": 15,
      "metadata": {
        "id": "G_nyTenDHJrd"
      },
      "outputs": [],
      "source": [
        "#Funciones ejercicio 2\n",
        "def coef_p3(t):\n",
        "    return t**3\n",
        "\n",
        "def coef_p2(t):\n",
        "    return 3*t**2 - 3*t**3\n",
        "\n",
        "def coef_p1(t):\n",
        "    return 3*t**3 - 6*t**2 + 3*t\n",
        "\n",
        "def coef_p0(t):\n",
        "    return 3*t**2 - t**3 -3*t + 1\n",
        "\n",
        "def h(t, puntos):\n",
        "    p0 = puntos[0]\n",
        "    p1 = puntos[1]\n",
        "    p2 = puntos[2]\n",
        "    p3 = puntos[3]\n",
        "    return coef_p3(t)*p3 + coef_p2(t)*p2 + coef_p1(t)*p1 + coef_p0(t)*p0"
      ]
    },
    {
      "cell_type": "code",
      "execution_count": null,
      "metadata": {
        "id": "jJdz3B19HS0C"
      },
      "outputs": [],
      "source": [
        "# Gráficos ejercicio 2)b)\n",
        "# Generar las curvas de los coeficientes en funcion de t\n",
        "t_values = np.linspace(0, 1, 100)\n",
        "coef0 = np.array([coef_p0(t) for t in t_values])\n",
        "coef1 = np.array([coef_p1(t) for t in t_values])\n",
        "coef2 = np.array([coef_p2(t) for t in t_values])\n",
        "coef3 = np.array([coef_p3(t) for t in t_values])\n",
        "\n",
        "# Graficar los coeficienes para 0<t<1\n",
        "plt.plot(t_values, coef0[:], label='Curva coef0')\n",
        "plt.plot(t_values, coef1[:], label='Curva coef1')\n",
        "plt.plot(t_values, coef2[:], label='Curva coef2')\n",
        "plt.plot(t_values, coef3[:], label='Curva coef3')\n",
        "\n",
        "# Configurar el gráfico\n",
        "plt.title('Curvas de los coeficientes de la función h(t)')\n",
        "plt.xlabel('t')\n",
        "plt.ylabel('coeficiente')\n",
        "plt.axhline(0, color='black', linewidth=0.5)\n",
        "plt.axvline(0, color='black', linewidth=0.5)\n",
        "plt.grid()\n",
        "plt.legend()\n",
        "\n",
        "# Mostrar el gráfico\n",
        "plt.show()"
      ]
    },
    {
      "cell_type": "code",
      "execution_count": null,
      "metadata": {
        "id": "BVc0HrO-Her9"
      },
      "outputs": [],
      "source": [
        "# Gráficos ejercicio 2)c)\n",
        "# Generar 3 conjuntos de puntos aleatorios para los ejemplos\n",
        "puntos_ejemplo = []\n",
        "for i in range(3):\n",
        "    p0 = np.array([randint(5*i, 5*i+5), randint(5*i, 5*i+5)])\n",
        "    p1 = np.array([randint(5*i, 5*i+5), randint(5*i, 5*i+5)])\n",
        "    p2 = np.array([randint(5*i, 5*i+5), randint(5*i, 5*i+5)])\n",
        "    p3 = np.array([randint(5*i, 5*i+5), randint(5*i, 5*i+5)])\n",
        "    puntos_ejemplo.append([p0, p1, p2, p3])\n",
        "\n",
        "# Generar las curvas usando los puntos de ejemplo\n",
        "t_values = np.linspace(0, 1, 100)\n",
        "ej1 = np.array([h(t, puntos_ejemplo[0]) for t in t_values])\n",
        "ej2 = np.array([h(t, puntos_ejemplo[1]) for t in t_values])\n",
        "ej3 = np.array([h(t, puntos_ejemplo[2]) for t in t_values])\n",
        "\n",
        "# Graficar las curvas resultantes de los ejemplos\n",
        "plt.plot(ej1[:, 0], ej1[:, 1], label='Ejemplo 1', color='blue')\n",
        "plt.plot(ej2[:, 0], ej2[:, 1], label='Ejemplo 2', color='green')\n",
        "plt.plot(ej3[:, 0], ej3[:, 1], label='Ejemplo 3', color='red')\n",
        "\n",
        "\n",
        "# Graficar cada conjunto de puntos\n",
        "colores = {1: '#020070', 2: '#007d11', 3: '#990000'}\n",
        "for i, puntos in enumerate(puntos_ejemplo):\n",
        "    for punto in puntos:\n",
        "        plt.scatter(punto[0], punto[1], color=colores[i+1], label=f'Puntos control ejemplo {i+1}' if punto is puntos[0] else '')\n",
        "\n",
        "# Configurar el gráfico\n",
        "plt.title('Ejemplos de curvas h(t)')\n",
        "plt.xlabel('x')\n",
        "plt.ylabel('y')\n",
        "plt.axhline(0, color='black', linewidth=0.5)\n",
        "plt.axvline(0, color='black', linewidth=0.5)\n",
        "plt.grid()\n",
        "plt.legend()\n",
        "\n",
        "\n",
        "# Mostrar el gráfico\n",
        "plt.show()"
      ]
    },
    {
      "cell_type": "markdown",
      "metadata": {
        "id": "iPsjXG4ZHwRY"
      },
      "source": [
        "Ejercicio 3"
      ]
    },
    {
      "cell_type": "code",
      "execution_count": 18,
      "metadata": {
        "id": "leZ0m6Y1HxZe"
      },
      "outputs": [],
      "source": [
        "#Funciones ejercicio 3\n",
        "def envolvente_convexa(puntos, num_muestras=100):\n",
        "    puntos = np.array(puntos)  # Convertimos los puntos a un array de numpy\n",
        "    n = len(puntos)\n",
        "    combinaciones = []\n",
        "\n",
        "    for _ in range(num_muestras):\n",
        "        coeficientes = np.random.rand(n)\n",
        "        coeficientes = coeficientes / coeficientes.sum()  # Normalizamos para que sumen 1\n",
        "        combinacion = np.sum([coeficientes[i] * puntos[i] for i in range(n)], axis=0)\n",
        "        combinaciones.append(combinacion)\n",
        "\n",
        "    return np.array(combinaciones)\n",
        "\n",
        "def bezier(t, puntos):\n",
        "    p0 = puntos[0]\n",
        "    p1 = puntos[1]\n",
        "    p2 = puntos[2]\n",
        "    if len(puntos) == 4:\n",
        "        p3 = puntos[3]\n",
        "        return coef_p3(t)*p3 + coef_p2(t)*p2 + coef_p1(t)*p1 + coef_p0(t)*p0\n",
        "    elif len(puntos) == 3:\n",
        "        return t**2*p2 + (2*t-2*t**2)*p1 + (t**2-2*t+1)*p0"
      ]
    },
    {
      "cell_type": "code",
      "execution_count": null,
      "metadata": {
        "id": "ZmLLDzfRH55O"
      },
      "outputs": [],
      "source": [
        "# Gráficos ejercicio 3)a)\n",
        "# Puntos de ejemplo en R2\n",
        "punto_s1 = [1, 2]\n",
        "puntos_s2 = [[1, 2], [5, 6]]\n",
        "puntos_s3 = [[1, 2], [5, 6], [2, 10]]\n",
        "\n",
        "conv_S1 = 1 * np.array(punto_s1)\n",
        "conv_S2 = envolvente_convexa(puntos_s2, num_muestras=100)\n",
        "conv_S3 = envolvente_convexa(puntos_s3, num_muestras=100)\n",
        "\n",
        "#S1\n",
        "plt.figure(figsize=(8, 6))\n",
        "graficar_punto(punto_s1, color='b', label='v1')  # p0\n",
        "plt.scatter(conv_S1[0], conv_S1[1], color='orange', label='Puntos en envolvente convexa', alpha=0.5)\n",
        "plt.title('conv(S1)')\n",
        "plt.xlabel('x')\n",
        "plt.ylabel('y')\n",
        "plt.legend()\n",
        "plt.show()\n",
        "\n",
        "#S2\n",
        "plt.figure(figsize=(8, 6))\n",
        "graficar_poligono(puntos_s2, color='black')\n",
        "graficar_punto(puntos_s2[0], color='b', label='v1')  \n",
        "graficar_punto(puntos_s2[1], color='b', label='v2')  \n",
        "plt.scatter(conv_S2[:, 0], conv_S2[:, 1], color='orange', label='Puntos en envolvente convexa', alpha=0.5)\n",
        "plt.title('conv(S2)')\n",
        "plt.xlabel('x')\n",
        "plt.ylabel('y')\n",
        "plt.legend()\n",
        "plt.show()\n",
        "\n",
        "#S3\n",
        "plt.figure(figsize=(8, 6))\n",
        "graficar_poligono(puntos_s3, color='black')\n",
        "graficar_punto(puntos_s3[0], color='b', label='v1')  \n",
        "graficar_punto(puntos_s3[1], color='b', label='v2') \n",
        "graficar_punto(puntos_s3[0], color='b', label='v3')\n",
        "plt.scatter(conv_S3[:, 0], conv_S3[:, 1], color='orange', label='Puntos en envolvente convexa', alpha=0.5)\n",
        "plt.title('conv(S3)')\n",
        "plt.xlabel('x')\n",
        "plt.ylabel('y')\n",
        "plt.legend()\n",
        "plt.show()"
      ]
    },
    {
      "cell_type": "code",
      "execution_count": null,
      "metadata": {
        "id": "abwxqEq8ICqg"
      },
      "outputs": [],
      "source": [
        "# Gráficos ejercicio 3)b)\n",
        "# Puntos de ejemplo en R2\n",
        "puntos3 = [[randint(0,10), randint(0,10)], [randint(0,10), randint(0,10)], [randint(0,10), randint(0,10)]]\n",
        "puntos4 = [[randint(0,10), randint(0,10)], [randint(0,10), randint(0,10)], [randint(0,10), randint(0,10)], [randint(0,10), randint(0,10)]]\n",
        "\n",
        "#convertir los puntos a np.array\n",
        "for i in range(len(puntos3)):\n",
        "    puntos3[i] = np.array(puntos3[i])\n",
        "for i in range(len(puntos4)):\n",
        "    puntos4[i] = np.array(puntos4[i])\n",
        "\n",
        "#generar la curva de Bézier\n",
        "t_values = np.linspace(0, 1, 100)\n",
        "curva1 = np.array([bezier(t, puntos3) for t in t_values])\n",
        "curva2 = np.array([bezier(t, puntos4) for t in t_values])\n",
        "\n",
        "# Graficar la curva 1\n",
        "plt.figure(figsize=(8, 6))\n",
        "plt.title('Curva como combinación convexa')\n",
        "plt.xlabel('x')\n",
        "plt.ylabel('y')\n",
        "plt.plot(curva1[:, 0], curva1[:, 1], label='Curva de Bézier', color='blue')\n",
        "graficar_punto(puntos3[0], color='b', label='p0')  # p0\n",
        "graficar_punto(puntos3[1], color='g', label='p1')  # p1\n",
        "graficar_punto(puntos3[2], color='m', label='p2')\n",
        "graficar_poligono(puntos3)\n",
        "plt.axhline(0, color='black', linewidth=0.5)\n",
        "plt.axvline(0, color='black', linewidth=0.5)\n",
        "plt.grid()\n",
        "plt.legend()\n",
        "plt.show()\n",
        "\n",
        "# Graficar la curva 2\n",
        "plt.figure(figsize=(8, 6))\n",
        "plt.title('Curva como combinación convexa')\n",
        "plt.xlabel('x')\n",
        "plt.ylabel('y')\n",
        "plt.plot(curva2[:, 0], curva2[:, 1], label='Curva de Bézier', color='blue')\n",
        "graficar_punto(puntos4[0], color='b', label='p0')  # p0\n",
        "graficar_punto(puntos4[1], color='g', label='p1')  # p1\n",
        "graficar_punto(puntos4[2], color='m', label='p2')\n",
        "graficar_punto(puntos4[3], color='y', label='p3')\n",
        "graficar_poligono(puntos4)\n",
        "plt.axhline(0, color='black', linewidth=0.5)\n",
        "plt.axvline(0, color='black', linewidth=0.5)\n",
        "plt.grid()\n",
        "plt.legend()\n",
        "plt.show()"
      ]
    },
    {
      "cell_type": "markdown",
      "metadata": {},
      "source": [
        "Ejercicio 4"
      ]
    },
    {
      "cell_type": "code",
      "execution_count": null,
      "metadata": {},
      "outputs": [],
      "source": [
        "# Gráficos ejercicio 4)\n",
        "# Puntos de ejemplo en R2\n",
        "puntos_ejemplo = [[np.array([1, 6]), np.array([4, 9]), np.array([3, 9]), np.array([1, 0])]]\n",
        "punto = puntos_ejemplo[0]\n",
        "\n",
        "p0 = punto[0]\n",
        "p1 = punto[1]\n",
        "p2 = punto[2]\n",
        "p3 = punto[3]\n",
        "\n",
        "tan_0 = (np.array(3*p1-3*p0))\n",
        "tan_1 = -1*np.array(3*p3-3*p2)\n",
        "\n",
        "#normalizamos los vectores\n",
        "tan_0 = tan_0/np.linalg.norm(tan_0) \n",
        "tan_1 = tan_1/np.linalg.norm(tan_1)\n",
        "\n",
        "# Dibujar el vector usando plt.quiver\n",
        "plt.quiver(p0[0], p0[1], tan_0[0], tan_0[1], angles='xy', scale_units='xy', scale=1, color='r')\n",
        "plt.quiver(p3[0], p3[1], tan_1[0], tan_1[1], angles='xy', scale_units='xy', scale=1, color='r')\n",
        "\n",
        "# Generar las curvas usando los puntos de ejemplo\n",
        "t_values = np.linspace(0, 1, 100)\n",
        "ej1 = np.array([h(t, puntos_ejemplo[0]) for t in t_values])\n",
        "\n",
        "# Graficar las curvas resultantes de los ejemplos\n",
        "plt.plot(ej1[:, 0], ej1[:, 1], label='Ejemplo 1', color='blue')\n",
        "\n",
        "colores = {1: '#020070', 2: '#007d11', 3: '#990000'}\n",
        "\n",
        "for j, ejemplo in enumerate(puntos_ejemplo):\n",
        "    for i in range(len(ejemplo)):\n",
        "        graficar_punto(ejemplo[i], color=colores[j+1])  # p0\n",
        "\n",
        "# Configurar el gráfico\n",
        "plt.title('Vectores tangentes a curva de Bézier')\n",
        "plt.xlabel('x')\n",
        "plt.ylabel('y')\n",
        "plt.axhline(0, color='black', linewidth=0.5)\n",
        "plt.axvline(0, color='black', linewidth=0.5)\n",
        "plt.grid()\n",
        "plt.legend()\n",
        "\n",
        "# Mostrar el gráfico\n",
        "plt.show()"
      ]
    }
  ],
  "metadata": {
    "colab": {
      "provenance": []
    },
    "kernelspec": {
      "display_name": "metodos",
      "language": "python",
      "name": "metodos"
    },
    "language_info": {
      "codemirror_mode": {
        "name": "ipython",
        "version": 3
      },
      "file_extension": ".py",
      "mimetype": "text/x-python",
      "name": "python",
      "nbconvert_exporter": "python",
      "pygments_lexer": "ipython3",
      "version": "3.10.14"
    }
  },
  "nbformat": 4,
  "nbformat_minor": 0
}
